{
 "cells": [
  {
   "cell_type": "markdown",
   "metadata": {},
   "source": [
    "# Rounding In Python — When Arithmetic Isn’t Quite Right\n",
    "A Python Notebook to accompany the article [Rounding In Python — When Arithmetic Isn’t Quite Right]().\n",
    "\n",
    "Refer to [this guide](https://medium.com/k-folds/saving-without-gitting-downloading-from-github-without-using-git-72b90c694af4) for help downloading the notebook!\n",
    "\n",
    "\n",
    "Rounding in Python is easy, just call `round(number_to_round, significant_digits)`. If you don't specify significant digits, it rounds to an integer."
   ]
  },
  {
   "cell_type": "code",
   "execution_count": 1,
   "metadata": {
    "collapsed": false,
    "scrolled": true
   },
   "outputs": [
    {
     "name": "stdout",
     "output_type": "stream",
     "text": [
      "2\n",
      "2.0\n"
     ]
    }
   ],
   "source": [
    "print(round(1.5))\n",
    "print(round(2.1, 0))"
   ]
  },
  {
   "cell_type": "markdown",
   "metadata": {},
   "source": [
    "But, not all rounding acts like you'd expect!\n"
   ]
  },
  {
   "cell_type": "code",
   "execution_count": 2,
   "metadata": {
    "collapsed": false
   },
   "outputs": [
    {
     "name": "stdout",
     "output_type": "stream",
     "text": [
      "2\n"
     ]
    }
   ],
   "source": [
    "print(round(2.5))"
   ]
  },
  {
   "cell_type": "markdown",
   "metadata": {},
   "source": [
    "Why???\n",
    "\n",
    "Rounding gets weird because rounding in Python, and any programming language, happens in binary. The number gets converted to binary, rounded, then converted back into a base ten number for display.\n",
    "\n",
    "### A Binary Refresher\n",
    "Instead of grouping by units of ten, binary groups in units of 2. Every significant digit represents 2 raised to that power.\n",
    "\n",
    "To see what a number is in binary, call bin(number)."
   ]
  },
  {
   "cell_type": "code",
   "execution_count": 3,
   "metadata": {
    "collapsed": false
   },
   "outputs": [
    {
     "name": "stdout",
     "output_type": "stream",
     "text": [
      "0: 0b0\n",
      "1: 0b1\n",
      "2: 0b10\n",
      "3: 0b11\n",
      "4: 0b100\n",
      "5: 0b101\n",
      "6: 0b110\n"
     ]
    }
   ],
   "source": [
    "print(\"0: \" + str(bin(0)))\n",
    "print(\"1: \" + str(bin(1)))\n",
    "print(\"2: \" + str(bin(2)))\n",
    "print(\"3: \" + str(bin(3)))\n",
    "print(\"4: \" + str(bin(4)))\n",
    "print(\"5: \" + str(bin(5)))\n",
    "print(\"6: \" + str(bin(6)))"
   ]
  },
  {
   "cell_type": "markdown",
   "metadata": {},
   "source": [
    "The results are printed out with a '0b' in front to indicate the string is a binary string.\n",
    "\n",
    "We see 0 is still 0, but now we add a significant digit when we reach another power of 2.\n",
    "\n",
    "| Base Ten Number  | Powers of 2  |  Binary Number |\n",
    "|---|---|---|\n",
    "| 1  |  2^0 |  1 |\n",
    "| 2  |  2^1 |  10 |\n",
    "| 3 |  2 + 1 = 2^1 + 1|  11 |\n",
    "| 4 |  2^2|  100 |\n",
    "| 5 |  4 + 1 = 2^2 + 1|  101 |\n",
    "| 6 |  4 + 2 = 2^2 + 2^1 |  110 |\n",
    "| 7 |  4 + 2 + 1= 2^2 + 2^1 + 2^0 |  111 |\n",
    "\n",
    "\n",
    "And so on...\n",
    "\n",
    "## Using Decimal\n",
    "To have more control over rounding, use the Decimal package. \n",
    "\n",
    "To create a Decimal number, call decimal.Decimal(number)"
   ]
  },
  {
   "cell_type": "code",
   "execution_count": 4,
   "metadata": {
    "collapsed": false
   },
   "outputs": [
    {
     "name": "stdout",
     "output_type": "stream",
     "text": [
      "1.100000000000000088817841970012523233890533447265625\n"
     ]
    }
   ],
   "source": [
    "import decimal\n",
    "\n",
    "number = decimal.Decimal(1.1)\n",
    "print(number)"
   ]
  },
  {
   "cell_type": "markdown",
   "metadata": {},
   "source": [
    "It takes the current number stored in Python and converts that to a decimal object. Since 1.1 cannot be stored perfectly in binary, the number is already corrupted before it's even passed to Decimal. To fix this, always send the number as a string!"
   ]
  },
  {
   "cell_type": "code",
   "execution_count": 5,
   "metadata": {
    "collapsed": false
   },
   "outputs": [
    {
     "name": "stdout",
     "output_type": "stream",
     "text": [
      "1.1\n"
     ]
    }
   ],
   "source": [
    "number = decimal.Decimal('1.1')\n",
    "print(number)"
   ]
  },
  {
   "cell_type": "markdown",
   "metadata": {},
   "source": [
    "Decimal numbers interact perfectly with regular Python numbers, so you can still add/subtract/multiply to your heart's content. We can even use Python's round function with it to round numbers."
   ]
  },
  {
   "cell_type": "code",
   "execution_count": 6,
   "metadata": {
    "collapsed": false
   },
   "outputs": [
    {
     "name": "stdout",
     "output_type": "stream",
     "text": [
      "2.1\n",
      "5.5\n",
      "1\n"
     ]
    }
   ],
   "source": [
    "print(number + 1)\n",
    "print(number * 5)\n",
    "print(round(number))"
   ]
  },
  {
   "cell_type": "markdown",
   "metadata": {},
   "source": [
    "But the round function still operates under Python's default rounding rules, so there will still be problems."
   ]
  },
  {
   "cell_type": "code",
   "execution_count": 7,
   "metadata": {
    "collapsed": false
   },
   "outputs": [
    {
     "name": "stdout",
     "output_type": "stream",
     "text": [
      "2\n"
     ]
    }
   ],
   "source": [
    "number = decimal.Decimal('2.5')\n",
    "print(round(number))"
   ]
  },
  {
   "cell_type": "markdown",
   "metadata": {},
   "source": [
    "## Implementing Custom Rounding\n",
    "To see Decimal's rounding settings call the getcontext() method."
   ]
  },
  {
   "cell_type": "code",
   "execution_count": 8,
   "metadata": {
    "collapsed": false
   },
   "outputs": [
    {
     "name": "stdout",
     "output_type": "stream",
     "text": [
      "Context(prec=28, rounding=ROUND_HALF_EVEN, Emin=-999999, Emax=999999, capitals=1, clamp=0, flags=[FloatOperation], traps=[InvalidOperation, DivisionByZero, Overflow])\n"
     ]
    }
   ],
   "source": [
    "print(decimal.getcontext())"
   ]
  },
  {
   "cell_type": "markdown",
   "metadata": {},
   "source": [
    "Even decimal defaults to ROUND_HALF_EVEN like Python's default... But we can change that. To modify the way calculations are rounded, change the setting like so:"
   ]
  },
  {
   "cell_type": "code",
   "execution_count": 9,
   "metadata": {
    "collapsed": false
   },
   "outputs": [
    {
     "name": "stdout",
     "output_type": "stream",
     "text": [
      "Context(prec=28, rounding=ROUND_HALF_UP, Emin=-999999, Emax=999999, capitals=1, clamp=0, flags=[FloatOperation], traps=[InvalidOperation, DivisionByZero, Overflow])\n"
     ]
    }
   ],
   "source": [
    "decimal.getcontext().rounding = 'ROUND_HALF_UP'\n",
    "print(decimal.getcontext())"
   ]
  },
  {
   "cell_type": "markdown",
   "metadata": {},
   "source": [
    "This makes sure that if you have truncation in the lower decimal places, the result is rounded up. Which helps with really small numbers, but doesn’t help when rounding a single number.\n",
    "\n",
    "The rounding functionality is a little different, you have to use the quantize function. The function rounds a number to the specified significant digit, and applies the rounding rule you specify if you don’t want to use the current one specified getcontext()."
   ]
  },
  {
   "cell_type": "code",
   "execution_count": 10,
   "metadata": {
    "collapsed": false
   },
   "outputs": [
    {
     "name": "stdout",
     "output_type": "stream",
     "text": [
      "1.10\n"
     ]
    }
   ],
   "source": [
    "number = decimal.Decimal('1.1')\n",
    "rounded = number.quantize(decimal.Decimal('0.01'))\n",
    "print(rounded)"
   ]
  },
  {
   "cell_type": "code",
   "execution_count": 11,
   "metadata": {
    "collapsed": false
   },
   "outputs": [
    {
     "name": "stdout",
     "output_type": "stream",
     "text": [
      "1\n"
     ]
    }
   ],
   "source": [
    "number = decimal.Decimal('1.1')\n",
    "rounded = number.quantize(decimal.Decimal('1'), rounding='ROUND_HALF_UP')\n",
    "print(rounded)"
   ]
  },
  {
   "cell_type": "code",
   "execution_count": 12,
   "metadata": {
    "collapsed": false
   },
   "outputs": [
    {
     "name": "stdout",
     "output_type": "stream",
     "text": [
      "3\n"
     ]
    }
   ],
   "source": [
    "number = decimal.Decimal('2.5')\n",
    "rounded = number.quantize(decimal.Decimal('1'), rounding='ROUND_HALF_UP')\n",
    "print(rounded)"
   ]
  },
  {
   "cell_type": "markdown",
   "metadata": {},
   "source": [
    "The quantize function is handy, but not as convenient to use. The function round_decimal() below mimics Python's built in rounding function, making the package easier to use!\n",
    "\n",
    "It takes any number, converts it to a string, then converts it to a decimal object to make sure the number get’s represented exactly. It then calls quantize() depending on the rounding specified, and returns a floating point or integer as the result:"
   ]
  },
  {
   "cell_type": "code",
   "execution_count": 13,
   "metadata": {
    "collapsed": false
   },
   "outputs": [],
   "source": [
    "def round_decimal(x, digits = 0):\n",
    "    #casting to string then converting to decimal\n",
    "    x = decimal.Decimal(str(x))\n",
    "    \n",
    "    #rounding for integers\n",
    "    if digits == 0:\n",
    "        return int(x.quantize(decimal.Decimal(\"1\"), rounding='ROUND_HALF_UP'))\n",
    "\n",
    "    #string in scientific notation for significant digits: 1e^x \n",
    "    if digits > 1:\n",
    "        string =  '1e' + str(-1*digits)\n",
    "    else:\n",
    "        string =  '1e' + str(-1*digits)\n",
    "\n",
    "    #rounding for floating points\n",
    "    return float(x.quantize(decimal.Decimal(string), rounding='ROUND_HALF_UP'))"
   ]
  },
  {
   "cell_type": "code",
   "execution_count": 14,
   "metadata": {
    "collapsed": false
   },
   "outputs": [
    {
     "name": "stdout",
     "output_type": "stream",
     "text": [
      "Built-in Rounding:\n",
      "556\n",
      "555.6\n",
      "600.0\n",
      "Custom Rounding:\n",
      "556\n",
      "555.6\n",
      "600.0\n"
     ]
    }
   ],
   "source": [
    "print(\"Built-in Rounding:\")\n",
    "print(round(555.555))\n",
    "print(round(555.555, 1))\n",
    "print(round(555.555, -2))\n",
    "\n",
    "print(\"Custom Rounding:\")\n",
    "print(round_decimal(555.555))\n",
    "print(round_decimal(555.555, 1))\n",
    "print(round_decimal(555.555, -2))\n"
   ]
  },
  {
   "cell_type": "code",
   "execution_count": 15,
   "metadata": {
    "collapsed": false
   },
   "outputs": [
    {
     "name": "stdout",
     "output_type": "stream",
     "text": [
      "Built-in Rounding:\n",
      "2\n",
      "Custom Rounding:\n",
      "3\n"
     ]
    }
   ],
   "source": [
    "print(\"Built-in Rounding:\")\n",
    "print(round(2.5))\n",
    "\n",
    "print(\"Custom Rounding:\")\n",
    "print(round_decimal(2.5))"
   ]
  }
 ],
 "metadata": {
  "kernelspec": {
   "display_name": "Python 3",
   "language": "python",
   "name": "python3"
  },
  "language_info": {
   "codemirror_mode": {
    "name": "ipython",
    "version": 3
   },
   "file_extension": ".py",
   "mimetype": "text/x-python",
   "name": "python",
   "nbconvert_exporter": "python",
   "pygments_lexer": "ipython3",
   "version": "3.6.0"
  }
 },
 "nbformat": 4,
 "nbformat_minor": 2
}
